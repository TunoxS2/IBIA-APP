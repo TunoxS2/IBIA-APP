{
  "nbformat": 4,
  "nbformat_minor": 0,
  "metadata": {
    "colab": {
      "name": "c.e.c.i.ipynb",
      "version": "0.3.2",
      "provenance": []
    },
    "kernelspec": {
      "name": "python3",
      "display_name": "Python 3"
    }
  },
  "cells": [
    {
      "metadata": {
        "id": "i6u-md5eDmk0",
        "colab_type": "code",
        "colab": {}
      },
      "cell_type": "code",
      "source": [
        "# IMPORTAR LIBRERIAS\n",
        "\n",
        "import numpy as np\n",
        "import pandas as pd\n",
        "import matplotlib as mt\n",
        "import sklearn as sk\n",
        "import tensorflow as tf\n",
        "\n"
      ],
      "execution_count": 0,
      "outputs": []
    },
    {
      "metadata": {
        "id": "MK_l0n6yKoib",
        "colab_type": "code",
        "outputId": "0c5e94c1-9c7f-4c09-b7ce-9d7fcea25b61",
        "colab": {
          "base_uri": "https://localhost:8080/",
          "height": 54
        }
      },
      "cell_type": "code",
      "source": [
        "# IMPORTAR Y ORGANIZAR DATASET\n",
        "\n",
        "from google.colab import drive\n",
        "drive.mount('/content/gdrive')\n",
        "\n",
        "X = pd.read_csv('gdrive/My Drive/dataset_real - DATASET_4.csv')\n",
        "y = X['Tramposo']\n",
        "X = X.drop('Tramposo', axis = 1)\n",
        "X = X.drop('Nombre', axis = 1)\n",
        "X = X.drop('Email', axis = 1)\n",
        "X = X.drop('Telefono', axis = 1)\n",
        "\n",
        "# NUMERO DE EXAMPLES = 1556\n",
        "# NUMERO DE FEATURES = 25"
      ],
      "execution_count": 34,
      "outputs": [
        {
          "output_type": "stream",
          "text": [
            "Drive already mounted at /content/gdrive; to attempt to forcibly remount, call drive.mount(\"/content/gdrive\", force_remount=True).\n"
          ],
          "name": "stdout"
        }
      ]
    },
    {
      "metadata": {
        "id": "saPgkuRgZeVB",
        "colab_type": "code",
        "colab": {}
      },
      "cell_type": "code",
      "source": [
        "# CREACIÓN DE LOS DATOS DE TRAIN/TEST\n",
        "\n",
        "from sklearn.model_selection import train_test_split\n",
        "X_train, X_test, y_train, y_test = train_test_split(X, y, test_size = .8)"
      ],
      "execution_count": 0,
      "outputs": []
    },
    {
      "metadata": {
        "id": "0wzOIlHTafdl",
        "colab_type": "code",
        "colab": {}
      },
      "cell_type": "code",
      "source": [
        "# CREACIÓN DEL CLASSIFIER (KNEIGHBORS CLASSIFIER)\n",
        "\n",
        "from sklearn.neighbors import KNeighborsClassifier\n",
        "my_classifier = KNeighborsClassifier()"
      ],
      "execution_count": 0,
      "outputs": []
    },
    {
      "metadata": {
        "id": "QCyXQqsoc-Lt",
        "colab_type": "code",
        "colab": {}
      },
      "cell_type": "code",
      "source": [
        "# CREACION DEL CLASSIFIER ALTERNATIVO (DECISION TREE CLASSIFIER)\n",
        "\n",
        "from sklearn import tree\n",
        "my_classifier = tree.DecisionTreeClassifier()"
      ],
      "execution_count": 0,
      "outputs": []
    },
    {
      "metadata": {
        "id": "AFglpoyFbHFp",
        "colab_type": "code",
        "colab": {
          "base_uri": "https://localhost:8080/",
          "height": 139
        },
        "outputId": "6b9b5904-de16-4484-c73a-4a18cad107f4"
      },
      "cell_type": "code",
      "source": [
        "# ENTRENAMIENTO DEL CLASSIFIER\n",
        "\n",
        "my_classifier.fit(X_train, y_train)"
      ],
      "execution_count": 54,
      "outputs": [
        {
          "output_type": "execute_result",
          "data": {
            "text/plain": [
              "DecisionTreeClassifier(class_weight=None, criterion='gini', max_depth=None,\n",
              "            max_features=None, max_leaf_nodes=None,\n",
              "            min_impurity_decrease=0.0, min_impurity_split=None,\n",
              "            min_samples_leaf=1, min_samples_split=2,\n",
              "            min_weight_fraction_leaf=0.0, presort=False, random_state=None,\n",
              "            splitter='best')"
            ]
          },
          "metadata": {
            "tags": []
          },
          "execution_count": 54
        }
      ]
    },
    {
      "metadata": {
        "id": "CNFVT5MxcB1b",
        "colab_type": "code",
        "colab": {}
      },
      "cell_type": "code",
      "source": [
        "# PREDECIR EL TEST DATA\n",
        "\n",
        "predictions = my_classifier.predict(X_test)"
      ],
      "execution_count": 0,
      "outputs": []
    },
    {
      "metadata": {
        "id": "UsUsEDK_cbUi",
        "colab_type": "code",
        "colab": {
          "base_uri": "https://localhost:8080/",
          "height": 34
        },
        "outputId": "869bebfc-740d-479a-c4aa-50ce8575da6b"
      },
      "cell_type": "code",
      "source": [
        "# CALCULAR EL ACCURACY\n",
        "\n",
        "from sklearn.metrics import accuracy_score\n",
        "print (accuracy_score(y_test, predictions))"
      ],
      "execution_count": 57,
      "outputs": [
        {
          "output_type": "stream",
          "text": [
            "0.9590361445783132\n"
          ],
          "name": "stdout"
        }
      ]
    }
  ]
}